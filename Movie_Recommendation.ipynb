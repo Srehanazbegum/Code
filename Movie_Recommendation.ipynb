{
  "nbformat": 4,
  "nbformat_minor": 0,
  "metadata": {
    "colab": {
      "provenance": [],
      "authorship_tag": "ABX9TyMBt6yC7AMiL9GkPWW8gOxU",
      "include_colab_link": true
    },
    "kernelspec": {
      "name": "python3",
      "display_name": "Python 3"
    },
    "language_info": {
      "name": "python"
    }
  },
  "cells": [
    {
      "cell_type": "markdown",
      "metadata": {
        "id": "view-in-github",
        "colab_type": "text"
      },
      "source": [
        "<a href=\"https://colab.research.google.com/github/Srehanazbegum/Code/blob/main/Movie_Recommendation.ipynb\" target=\"_parent\"><img src=\"https://colab.research.google.com/assets/colab-badge.svg\" alt=\"Open In Colab\"/></a>"
      ]
    },
    {
      "cell_type": "markdown",
      "source": [
        "***Title of Project:***\n",
        "\n",
        " Movie Recommendation System using Content-Based Filtering"
      ],
      "metadata": {
        "id": "6pwNFyloEQah"
      }
    },
    {
      "cell_type": "markdown",
      "source": [
        "***Objective:***\n",
        "\n",
        "\n",
        "To build a system that recommends movies to users based on the similarity of movie genres, keywords, taglines, cast, and directors.\n",
        "\n"
      ],
      "metadata": {
        "id": "vFUPBiqGEzwo"
      }
    },
    {
      "cell_type": "markdown",
      "source": [
        "***Import Library:***"
      ],
      "metadata": {
        "id": "LLT6zFQQFTwR"
      }
    },
    {
      "cell_type": "code",
      "execution_count": 2,
      "metadata": {
        "id": "kZQyXmnHEPjw"
      },
      "outputs": [],
      "source": [
        "import pandas as pd\n",
        "import numpy as np\n",
        "from sklearn.feature_extraction.text import TfidfVectorizer\n",
        "from sklearn.metrics.pairwise import cosine_similarity\n",
        "import difflib"
      ]
    },
    {
      "cell_type": "markdown",
      "source": [
        "***Import Data***:"
      ],
      "metadata": {
        "id": "O-_iDgMMFy3o"
      }
    },
    {
      "cell_type": "code",
      "source": [
        "df = pd.read_csv(r\"https://raw.githubusercontent.com/YBIFoundation/Dataset/main/Movies%20Recommendation.csv\")"
      ],
      "metadata": {
        "id": "6QxCbZe1F3Ap"
      },
      "execution_count": 3,
      "outputs": []
    },
    {
      "cell_type": "markdown",
      "source": [
        "***Describe Data:***"
      ],
      "metadata": {
        "id": "lNvRvzizF95a"
      }
    },
    {
      "cell_type": "code",
      "source": [
        "# Overview of the dataset\n",
        "df.head()\n",
        "df.info()\n",
        "df.shape\n",
        "df.columns"
      ],
      "metadata": {
        "id": "gG4NO0ZdGZNA"
      },
      "execution_count": null,
      "outputs": []
    },
    {
      "cell_type": "markdown",
      "source": [
        "***Data Preprocessing***:"
      ],
      "metadata": {
        "id": "lihyxCcUGl2K"
      }
    },
    {
      "cell_type": "code",
      "source": [
        "# Selecting relevant features for recommendation\n",
        "df_features = df[[\"Movie_Genre\", \"Movie_Keywords\", \"Movie_Tagline\", \"Movie_Cast\", \"Movie_Director\"]].fillna(\"\")\n",
        "\n",
        "# Combining the selected features into a single string for each movie\n",
        "X = df_features['Movie_Genre'] + ' ' + df_features['Movie_Keywords'] + ' ' + df_features['Movie_Tagline'] + ' ' + df_features['Movie_Cast'] + ' ' + df_features['Movie_Director']\n",
        "\n",
        "# Transforming text data into TF-IDF features\n",
        "tfidf = TfidfVectorizer()\n",
        "X = tfidf.fit_transform(X)\n"
      ],
      "metadata": {
        "id": "IhVOAM0sGtSQ"
      },
      "execution_count": 5,
      "outputs": []
    },
    {
      "cell_type": "markdown",
      "source": [
        "***Modeling:***"
      ],
      "metadata": {
        "id": "kbYWtsTpHHSp"
      }
    },
    {
      "cell_type": "code",
      "source": [
        "# Computing cosine similarity between movies based on TF-IDF features\n",
        "Similarity_Score = cosine_similarity(X)"
      ],
      "metadata": {
        "id": "xAdk4_n9HL_w"
      },
      "execution_count": 6,
      "outputs": []
    },
    {
      "cell_type": "markdown",
      "source": [
        "***Prediction:***"
      ],
      "metadata": {
        "id": "f2PmeRD0HaPq"
      }
    },
    {
      "cell_type": "code",
      "source": [
        "# Taking user input for their favorite movie\n",
        "Favourite_Movie_Name = input(' Enter your favourite movie name : ')\n",
        "\n",
        "# Finding the closest match for the favorite movie in the dataset\n",
        "All_Movies_Title_List = df['Movie_Title'].tolist()\n",
        "Movie_Recommendation = difflib.get_close_matches(Favourite_Movie_Name, All_Movies_Title_List)\n",
        "close_match = Movie_Recommendation[0]\n",
        "\n",
        "# Getting the index of the closest match movie\n",
        "Index_of_Close_Match_Movie = df[df.Movie_Title == close_match]['Movie_ID'].values[0]\n",
        "\n",
        "# Generating recommendation scores for all movies based on similarity to the selected movie\n",
        "Recomendation_Score = list(enumerate(Similarity_Score[Index_of_Close_Match_Movie]))\n",
        "\n",
        "# Sorting movies by similarity score in descending order\n",
        "sorted_similar_movies = sorted(Recomendation_Score, key=lambda x: x[1], reverse=True)\n",
        "\n",
        "# Displaying the top 20 recommended movies\n",
        "print('Top 20 Movies Suggested for You : \\n')\n",
        "i = 1\n",
        "for movie in sorted_similar_movies:\n",
        "    index = movie[0]\n",
        "    title_from_index = df[df.index == index]['Movie_Title'].values[0]\n",
        "    if i < 21:\n",
        "        print(i, '.', title_from_index)\n",
        "        i += 1\n"
      ],
      "metadata": {
        "colab": {
          "base_uri": "https://localhost:8080/"
        },
        "id": "f-OnBsULHdTo",
        "outputId": "d8195c09-177b-4870-f9a7-33ad92bcda43"
      },
      "execution_count": 8,
      "outputs": [
        {
          "output_type": "stream",
          "name": "stdout",
          "text": [
            " Enter your favourite movie name : avtaar\n",
            "Top 20 Movies Suggested for You : \n",
            "\n",
            "1 . Niagara\n",
            "2 . Caravans\n",
            "3 . My Week with Marilyn\n",
            "4 . Brokeback Mountain\n",
            "5 . Harry Brown\n",
            "6 . Night of the Living Dead\n",
            "7 . The Curse of Downers Grove\n",
            "8 . The Boy Next Door\n",
            "9 . Back to the Future\n",
            "10 . The Juror\n",
            "11 . Some Like It Hot\n",
            "12 . Enough\n",
            "13 . The Kentucky Fried Movie\n",
            "14 . Eye for an Eye\n",
            "15 . Welcome to the Sticks\n",
            "16 . Alice Through the Looking Glass\n",
            "17 . Superman III\n",
            "18 . The Misfits\n",
            "19 . Premium Rush\n",
            "20 . Duel in the Sun\n"
          ]
        }
      ]
    },
    {
      "cell_type": "markdown",
      "source": [
        "***Model Evaluation:***\n",
        "\n",
        "\n",
        "No explicit evaluation is performed in the current code, as content-based filtering typically doesn't involve a direct evaluation metric like RMSE. However, the system can be evaluated by user satisfaction and relevance of the recommendations.\n",
        "\n",
        "***Explanation:***\n",
        "\n",
        "\n",
        "This system uses a content-based filtering approach, where movies are recommended based on the similarity of their attributes (genre, keywords, tagline, cast, and director) to a movie selected by the user. The system uses TF-IDF to convert text data into numerical features and cosine similarity to find movies that are most similar to the user's favorite movie."
      ],
      "metadata": {
        "id": "TYo_z_OmH7Bf"
      }
    }
  ]
}